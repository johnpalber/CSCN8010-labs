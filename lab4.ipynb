{
 "cells": [
  {
   "cell_type": "markdown",
   "metadata": {},
   "source": [
    "## **Lab 4**"
   ]
  },
  {
   "cell_type": "markdown",
   "metadata": {},
   "source": [
    "## **Predicting Diabetes Risk Based on BMI**"
   ]
  },
  {
   "cell_type": "markdown",
   "metadata": {},
   "source": [
    "### **Introduction**"
   ]
  },
  {
   "cell_type": "markdown",
   "metadata": {},
   "source": [
    "This model is designed to predict the risk of diabetes based on BMI. This is a critical application as diabetes is a widespread and potentially dangerous health condition, and being able to anticipate the risk could lead to early interventions and preventative measures."
   ]
  },
  {
   "cell_type": "markdown",
   "metadata": {},
   "source": [
    "### **Train the model**"
   ]
  },
  {
   "cell_type": "markdown",
   "metadata": {},
   "source": [
    "We will train our model using the scikit-learn's diabetes dataset, which contains real-world clinical data, allowing us to create a robust and reliable prediction model for predicting diabetes risk based on BMI. The dataset's varied variety of variables enables complete model training, supporting the development of a prediction tool capable of accurately assessing diabetes risk in people.\n"
   ]
  },
  {
   "cell_type": "code",
   "execution_count": 22,
   "metadata": {},
   "outputs": [],
   "source": [
    "import numpy as np\n",
    "import pandas as pd\n",
    "from sklearn import datasets\n",
    "from sklearn.model_selection import train_test_split\n",
    "from sklearn.preprocessing import PolynomialFeatures\n",
    "from sklearn.linear_model import LinearRegression\n",
    "from sklearn.metrics import r2_score, mean_absolute_percentage_error, mean_absolute_error, mean_squared_error\n",
    "import matplotlib.pyplot as plt"
   ]
  },
  {
   "cell_type": "markdown",
   "metadata": {},
   "source": [
    "### **Load the Dataset**"
   ]
  },
  {
   "cell_type": "markdown",
   "metadata": {},
   "source": [
    "Loading the diabetes dataset with the parameter scaled=False, we're asking for the original, unadjusted data. This means we'll see the data as it was originally measured, without any standardization or scaling. It can make it easier to understand and interpret the values, which is helpful for gaining insights into the relationship between the data and the risk of diabetes."
   ]
  },
  {
   "cell_type": "code",
   "execution_count": 23,
   "metadata": {},
   "outputs": [],
   "source": [
    "diabetes_ds = datasets.load_diabetes(return_X_y=False, as_frame=False, scaled=False)\n",
    "X = diabetes_ds.data[:, np.newaxis, 2]\n",
    "y = diabetes_ds.target"
   ]
  },
  {
   "cell_type": "markdown",
   "metadata": {},
   "source": [
    "The diabetes dataset comprises data from 442 patients and includes the following features:\n",
    "\n",
    "- age (age in years)\n",
    "- sex\n",
    "- bmi (body mass index)\n",
    "- bp (average blood pressure)\n",
    "- s1 tc (total serum cholesterol)\n",
    "- s2 ldl (low-density lipoproteins)\n",
    "- s3 hdl (high-density lipoproteins)\n",
    "- s4 tch (total cholesterol / HDL)\n",
    "- s5 ltg (possibly log of serum triglycerides level)\n",
    "- s6 glu (blood sugar level)\n",
    "\n",
    "These features provide a comprehensive insight into various aspects of the patient's health and allow for the exploration of potential relationships between these factors and the risk of diabetes. This will allow a thorough analysis and modeling of diabetes risk based on multiple health-related variables"
   ]
  },
  {
   "cell_type": "markdown",
   "metadata": {},
   "source": [
    "### **Plotting**"
   ]
  },
  {
   "cell_type": "markdown",
   "metadata": {},
   "source": [
    "We creating a histogram with BMI on the x-axis and frequency on the y-axis, the resulting visualization provides a representation of the distribution of BMI values within the dataset. Each bar in the histogram represents a certain range of BMI values, and the height of the bar corresponds to the frequency of BMI values within that range. \n",
    "\n",
    "Then correlation matrix indicates the relationships between the various columns in the dataset. A correlation value of 1 signifies a strong positive correlation, 0 indicates no correlation, and -1 indicates a strong negative correlation.\n",
    "\n",
    "Then we Split the values into training, validation and test data. Then we run polynomial regression and loop through each model.\n",
    "\n",
    "Once we find results, we compare the models and find the best model. Once we find it we run the chosen model on test and graph the train, validation and test datapoints.\n",
    "\n",
    "Then we equate the best model and manually check expedited diabetes progression for a particular BMI value.\n",
    "\n",
    "\n"
   ]
  },
  {
   "cell_type": "code",
   "execution_count": 24,
   "metadata": {},
   "outputs": [
    {
     "data": {
      "text/html": [
       "<div>\n",
       "<style scoped>\n",
       "    .dataframe tbody tr th:only-of-type {\n",
       "        vertical-align: middle;\n",
       "    }\n",
       "\n",
       "    .dataframe tbody tr th {\n",
       "        vertical-align: top;\n",
       "    }\n",
       "\n",
       "    .dataframe thead th {\n",
       "        text-align: right;\n",
       "    }\n",
       "</style>\n",
       "<table border=\"1\" class=\"dataframe\">\n",
       "  <thead>\n",
       "    <tr style=\"text-align: right;\">\n",
       "      <th></th>\n",
       "      <th>age</th>\n",
       "      <th>sex</th>\n",
       "      <th>bmi</th>\n",
       "      <th>bp</th>\n",
       "      <th>s1</th>\n",
       "      <th>s2</th>\n",
       "      <th>s3</th>\n",
       "      <th>s4</th>\n",
       "      <th>s5</th>\n",
       "      <th>s6</th>\n",
       "    </tr>\n",
       "  </thead>\n",
       "  <tbody>\n",
       "    <tr>\n",
       "      <th>count</th>\n",
       "      <td>442.000000</td>\n",
       "      <td>442.000000</td>\n",
       "      <td>442.000000</td>\n",
       "      <td>442.000000</td>\n",
       "      <td>442.000000</td>\n",
       "      <td>442.000000</td>\n",
       "      <td>442.000000</td>\n",
       "      <td>442.000000</td>\n",
       "      <td>442.000000</td>\n",
       "      <td>442.000000</td>\n",
       "    </tr>\n",
       "    <tr>\n",
       "      <th>mean</th>\n",
       "      <td>48.518100</td>\n",
       "      <td>1.468326</td>\n",
       "      <td>26.375792</td>\n",
       "      <td>94.647014</td>\n",
       "      <td>189.140271</td>\n",
       "      <td>115.439140</td>\n",
       "      <td>49.788462</td>\n",
       "      <td>4.070249</td>\n",
       "      <td>4.641411</td>\n",
       "      <td>91.260181</td>\n",
       "    </tr>\n",
       "    <tr>\n",
       "      <th>std</th>\n",
       "      <td>13.109028</td>\n",
       "      <td>0.499561</td>\n",
       "      <td>4.418122</td>\n",
       "      <td>13.831283</td>\n",
       "      <td>34.608052</td>\n",
       "      <td>30.413081</td>\n",
       "      <td>12.934202</td>\n",
       "      <td>1.290450</td>\n",
       "      <td>0.522391</td>\n",
       "      <td>11.496335</td>\n",
       "    </tr>\n",
       "    <tr>\n",
       "      <th>min</th>\n",
       "      <td>19.000000</td>\n",
       "      <td>1.000000</td>\n",
       "      <td>18.000000</td>\n",
       "      <td>62.000000</td>\n",
       "      <td>97.000000</td>\n",
       "      <td>41.600000</td>\n",
       "      <td>22.000000</td>\n",
       "      <td>2.000000</td>\n",
       "      <td>3.258100</td>\n",
       "      <td>58.000000</td>\n",
       "    </tr>\n",
       "    <tr>\n",
       "      <th>25%</th>\n",
       "      <td>38.250000</td>\n",
       "      <td>1.000000</td>\n",
       "      <td>23.200000</td>\n",
       "      <td>84.000000</td>\n",
       "      <td>164.250000</td>\n",
       "      <td>96.050000</td>\n",
       "      <td>40.250000</td>\n",
       "      <td>3.000000</td>\n",
       "      <td>4.276700</td>\n",
       "      <td>83.250000</td>\n",
       "    </tr>\n",
       "    <tr>\n",
       "      <th>50%</th>\n",
       "      <td>50.000000</td>\n",
       "      <td>1.000000</td>\n",
       "      <td>25.700000</td>\n",
       "      <td>93.000000</td>\n",
       "      <td>186.000000</td>\n",
       "      <td>113.000000</td>\n",
       "      <td>48.000000</td>\n",
       "      <td>4.000000</td>\n",
       "      <td>4.620050</td>\n",
       "      <td>91.000000</td>\n",
       "    </tr>\n",
       "    <tr>\n",
       "      <th>75%</th>\n",
       "      <td>59.000000</td>\n",
       "      <td>2.000000</td>\n",
       "      <td>29.275000</td>\n",
       "      <td>105.000000</td>\n",
       "      <td>209.750000</td>\n",
       "      <td>134.500000</td>\n",
       "      <td>57.750000</td>\n",
       "      <td>5.000000</td>\n",
       "      <td>4.997200</td>\n",
       "      <td>98.000000</td>\n",
       "    </tr>\n",
       "    <tr>\n",
       "      <th>max</th>\n",
       "      <td>79.000000</td>\n",
       "      <td>2.000000</td>\n",
       "      <td>42.200000</td>\n",
       "      <td>133.000000</td>\n",
       "      <td>301.000000</td>\n",
       "      <td>242.400000</td>\n",
       "      <td>99.000000</td>\n",
       "      <td>9.090000</td>\n",
       "      <td>6.107000</td>\n",
       "      <td>124.000000</td>\n",
       "    </tr>\n",
       "  </tbody>\n",
       "</table>\n",
       "</div>"
      ],
      "text/plain": [
       "              age         sex         bmi          bp          s1          s2   \n",
       "count  442.000000  442.000000  442.000000  442.000000  442.000000  442.000000  \\\n",
       "mean    48.518100    1.468326   26.375792   94.647014  189.140271  115.439140   \n",
       "std     13.109028    0.499561    4.418122   13.831283   34.608052   30.413081   \n",
       "min     19.000000    1.000000   18.000000   62.000000   97.000000   41.600000   \n",
       "25%     38.250000    1.000000   23.200000   84.000000  164.250000   96.050000   \n",
       "50%     50.000000    1.000000   25.700000   93.000000  186.000000  113.000000   \n",
       "75%     59.000000    2.000000   29.275000  105.000000  209.750000  134.500000   \n",
       "max     79.000000    2.000000   42.200000  133.000000  301.000000  242.400000   \n",
       "\n",
       "               s3          s4          s5          s6  \n",
       "count  442.000000  442.000000  442.000000  442.000000  \n",
       "mean    49.788462    4.070249    4.641411   91.260181  \n",
       "std     12.934202    1.290450    0.522391   11.496335  \n",
       "min     22.000000    2.000000    3.258100   58.000000  \n",
       "25%     40.250000    3.000000    4.276700   83.250000  \n",
       "50%     48.000000    4.000000    4.620050   91.000000  \n",
       "75%     57.750000    5.000000    4.997200   98.000000  \n",
       "max     99.000000    9.090000    6.107000  124.000000  "
      ]
     },
     "execution_count": 24,
     "metadata": {},
     "output_type": "execute_result"
    }
   ],
   "source": [
    "diabetes_df = pd.DataFrame(diabetes_ds.data, columns=diabetes_ds.feature_names)\n",
    "diabetes_df.describe()"
   ]
  },
  {
   "cell_type": "markdown",
   "metadata": {},
   "source": [
    "- The mean provides the average value for each attribute.\n",
    "- The standard deviation (std) signifies the amount of variation or dispersion of the values from the mean value.\n",
    "- The minimum and maximum values denote the range within which the values of each feature lie. \n",
    "- The percentiles (25%, 50%, 75%) shows the insights into the distribution of the data, indicating the values below which a given percentage of data falls."
   ]
  },
  {
   "cell_type": "code",
   "execution_count": 25,
   "metadata": {},
   "outputs": [
    {
     "data": {
      "image/png": "[encoded data removed]",
      "text/plain": [
       "<Figure size 640x480 with 1 Axes>"
      ]
     },
     "metadata": {},
     "output_type": "display_data"
    }
   ],
   "source": [
    "plt.hist(X)\n",
    "plt.xlabel('BMI')\n",
    "plt.ylabel('Frequency')\n",
    "plt.title('Histogram of BMI frequency')\n",
    "plt.show()"
   ]
  },
  {
   "cell_type": "markdown",
   "metadata": {},
   "source": [
    "This histogram illustrates the distribution of BMI values across the dataset. It shows a peak around the 25-30 BMI range, indicating that a significant number of patients have BMI values within this range. As BMI values increase beyond 30, the frequency gradually decreases, suggesting that fewer patients have higher BMI values. This also indicates a concentration of patients with moderate BMI values and fewer with extreme BMI values. Understanding this distribution will help in assessing the potential relationship between BMI and diabetes risk."
   ]
  },
  {
   "cell_type": "code",
   "execution_count": 26,
   "metadata": {},
   "outputs": [
    {
     "name": "stdout",
     "output_type": "stream",
     "text": [
      "          age       sex       bmi        bp        s1        s2        s3   \n",
      "age  1.000000  0.173737  0.185085  0.335428  0.260061  0.219243 -0.075181  \\\n",
      "sex  0.173737  1.000000  0.088161  0.241010  0.035277  0.142637 -0.379090   \n",
      "bmi  0.185085  0.088161  1.000000  0.395411  0.249777  0.261170 -0.366811   \n",
      "bp   0.335428  0.241010  0.395411  1.000000  0.242464  0.185548 -0.178762   \n",
      "s1   0.260061  0.035277  0.249777  0.242464  1.000000  0.896663  0.051519   \n",
      "s2   0.219243  0.142637  0.261170  0.185548  0.896663  1.000000 -0.196455   \n",
      "s3  -0.075181 -0.379090 -0.366811 -0.178762  0.051519 -0.196455  1.000000   \n",
      "s4   0.203841  0.332115  0.413807  0.257650  0.542207  0.659817 -0.738493   \n",
      "s5   0.270774  0.149916  0.446157  0.393480  0.515503  0.318357 -0.398577   \n",
      "s6   0.301731  0.208133  0.388680  0.390430  0.325717  0.290600 -0.273697   \n",
      "\n",
      "           s4        s5        s6  \n",
      "age  0.203841  0.270774  0.301731  \n",
      "sex  0.332115  0.149916  0.208133  \n",
      "bmi  0.413807  0.446157  0.388680  \n",
      "bp   0.257650  0.393480  0.390430  \n",
      "s1   0.542207  0.515503  0.325717  \n",
      "s2   0.659817  0.318357  0.290600  \n",
      "s3  -0.738493 -0.398577 -0.273697  \n",
      "s4   1.000000  0.617859  0.417212  \n",
      "s5   0.617859  1.000000  0.464669  \n",
      "s6   0.417212  0.464669  1.000000  \n"
     ]
    }
   ],
   "source": [
    "correlation_matrix = diabetes_df.corr()\n",
    "print(correlation_matrix)"
   ]
  },
  {
   "cell_type": "markdown",
   "metadata": {},
   "source": [
    "The above correlation matrix indicates the relationships between the various columns in the dataset. A correlation value of 1 signifies a strong positive correlation, 0 indicates no correlation, and -1 indicates a strong negative correlation.\n",
    "\n",
    "Few observations after analyzing the above data,\n",
    "\n",
    "- There is a relatively strong positive correlation between BMI and blood pressure (bp).\n",
    "- Total serum cholesterol (s1) and low-density lipoproteins (s2) also exhibit a strong positive correlation.\n",
    "- There appears to be a moderate positive correlation between age and blood sugar level (s6).\n",
    "- No significant correlations (near 0) are observed between age and BMI, or between high-density lipoproteins (s3) and blood sugar level (s6)."
   ]
  },
  {
   "cell_type": "markdown",
   "metadata": {},
   "source": [
    "### **Splitting the values into validation, training and test data**"
   ]
  },
  {
   "cell_type": "code",
   "execution_count": 27,
   "metadata": {},
   "outputs": [],
   "source": [
    "X_train, X_temp, y_train, y_temp = train_test_split(X, y, test_size=0.3, random_state=42)\n",
    "X_val, X_test, y_val, y_test = train_test_split(X_temp, y_temp, test_size=0.5, random_state=42)"
   ]
  },
  {
   "cell_type": "markdown",
   "metadata": {},
   "source": [
    "### **Running polynomial regression**"
   ]
  },
  {
   "cell_type": "code",
   "execution_count": 28,
   "metadata": {},
   "outputs": [],
   "source": [
    "# Running for degree 0 to 5\n",
    "degrees = [0, 1, 2, 3, 4, 5]\n",
    "\n",
    "train_r2_scores = []\n",
    "val_r2_scores = []\n",
    "train_maes = []\n",
    "val_maes = []\n",
    "train_mapes = []\n",
    "val_mapes = []\n",
    "models = []"
   ]
  },
  {
   "cell_type": "markdown",
   "metadata": {},
   "source": [
    "Looping through each degree model\n"
   ]
  },
  {
   "cell_type": "code",
   "execution_count": 29,
   "metadata": {},
   "outputs": [],
   "source": [
    "for degree in degrees:\n",
    "    poly_features = PolynomialFeatures(degree=degree)\n",
    "    X_poly_train = poly_features.fit_transform(X_train)\n",
    "    X_poly_val = poly_features.transform(X_val)\n",
    "    model = LinearRegression()\n",
    "    model.fit(X_poly_train, y_train)\n",
    "    train_pred = model.predict(X_poly_train)\n",
    "    val_pred = model.predict(X_poly_val)\n",
    "    train_r2_scores.append(r2_score(y_train, train_pred))\n",
    "    val_r2_scores.append(r2_score(y_val, val_pred))\n",
    "    train_maes.append(mean_absolute_error(y_train, train_pred))\n",
    "    val_maes.append(mean_absolute_error(y_val, val_pred))\n",
    "    train_mapes.append(mean_absolute_percentage_error(y_train, train_pred))\n",
    "    val_mapes.append(mean_absolute_percentage_error(y_val, val_pred))\n",
    "    models.append(model)   "
   ]
  },
  {
   "cell_type": "markdown",
   "metadata": {},
   "source": [
    "### **Model results**"
   ]
  },
  {
   "cell_type": "code",
   "execution_count": 30,
   "metadata": {},
   "outputs": [
    {
     "name": "stdout",
     "output_type": "stream",
     "text": [
      "   Degree  Train R^2  Validation R^2  Train MAE  Validation MAE  Train MAPE   \n",
      "0       0   0.000000       -0.008055  66.713922       62.042954    0.637647  \\\n",
      "1       1   0.365765        0.302543  51.951199       48.270702    0.482628   \n",
      "2       2   0.366837        0.296223  51.883089       48.273028    0.482172   \n",
      "3       3   0.366840        0.297015  51.878337       48.235127    0.482086   \n",
      "4       4   0.368665        0.263194  51.772629       48.367440    0.479762   \n",
      "5       5   0.369675        0.297578  51.760799       47.348851    0.479192   \n",
      "\n",
      "   Validation MAPE  \n",
      "0         0.579577  \n",
      "1         0.420456  \n",
      "2         0.419024  \n",
      "3         0.418775  \n",
      "4         0.414836  \n",
      "5         0.407376  \n"
     ]
    }
   ],
   "source": [
    "results_df = pd.DataFrame({\n",
    "    'Degree': degrees,\n",
    "    'Train R^2': train_r2_scores,\n",
    "    'Validation R^2': val_r2_scores,\n",
    "    'Train MAE': train_maes,\n",
    "    'Validation MAE': val_maes,\n",
    "    'Train MAPE': train_mapes,\n",
    "    'Validation MAPE': val_mapes\n",
    "})\n",
    "\n",
    "print(results_df)"
   ]
  },
  {
   "cell_type": "markdown",
   "metadata": {},
   "source": [
    "### **Comparing the models**"
   ]
  },
  {
   "cell_type": "code",
   "execution_count": 31,
   "metadata": {},
   "outputs": [
    {
     "name": "stdout",
     "output_type": "stream",
     "text": [
      "Best Model is of degree 1\n"
     ]
    }
   ],
   "source": [
    "best_degree = degrees[np.argmax(val_r2_scores)]\n",
    "best_model = models[np.argmax(val_r2_scores)]\n",
    "\n",
    "print(f\"Best Model is of degree {best_degree}\")"
   ]
  },
  {
   "cell_type": "markdown",
   "metadata": {},
   "source": [
    "### **Run chosen model to test**"
   ]
  },
  {
   "cell_type": "code",
   "execution_count": 32,
   "metadata": {},
   "outputs": [
    {
     "name": "stdout",
     "output_type": "stream",
     "text": [
      "Test R^2: 0.2605731984821167\n",
      "Test MSE: 4198.449565925882\n",
      "Test MAE: 52.880785447649295\n"
     ]
    }
   ],
   "source": [
    "X_poly_test = PolynomialFeatures(degree=best_degree).fit_transform(X_test)\n",
    "test_pred = best_model.predict(X_poly_test)\n",
    "test_r2 = r2_score(y_test, test_pred)\n",
    "test_mse = mean_squared_error(y_test, test_pred)\n",
    "test_mae = mean_absolute_error(y_test, test_pred)\n",
    "\n",
    "print(\"Test R^2:\", test_r2)\n",
    "print(\"Test MSE:\", test_mse)\n",
    "print(\"Test MAE:\", test_mae)"
   ]
  },
  {
   "cell_type": "markdown",
   "metadata": {},
   "source": [
    "### **Graph of the train, validation and test datapoints**"
   ]
  },
  {
   "cell_type": "code",
   "execution_count": 33,
   "metadata": {},
   "outputs": [
    {
     "data": {
      "image/png": "[encoded data removed]",
      "text/plain": [
       "<Figure size 640x480 with 1 Axes>"
      ]
     },
     "metadata": {},
     "output_type": "display_data"
    }
   ],
   "source": [
    "plt.scatter(X_train, y_train, color='blue', label='Train Data')\n",
    "plt.scatter(X_val, y_val, color='green', label='Validation Data')\n",
    "plt.scatter(X_test, y_test, color='red', label='Test Data')\n",
    "plt.xlabel('BMI')\n",
    "plt.ylabel('Diabetes Progression')\n",
    "plt.title('Diabetes Progression vs BMI')\n",
    "x_values = np.linspace(X.min(), X.max(), 100)\n",
    "x_poly_values = PolynomialFeatures(degree=best_degree).fit_transform(x_values.reshape(-1, 1))\n",
    "y_values = best_model.predict(x_poly_values)\n",
    "plt.plot(x_values, y_values, color='black', label='Best Fit Line')\n",
    "plt.legend()\n",
    "plt.show()"
   ]
  },
  {
   "cell_type": "markdown",
   "metadata": {},
   "source": [
    "### **Equation of the best model**"
   ]
  },
  {
   "cell_type": "code",
   "execution_count": 34,
   "metadata": {},
   "outputs": [
    {
     "name": "stdout",
     "output_type": "stream",
     "text": [
      "Equation of the best model: Diabetes Progression = -129.95 + 10.65 * BMI^1\n"
     ]
    }
   ],
   "source": [
    "coefs = best_model.coef_\n",
    "intercept = best_model.intercept_\n",
    "equation = f\"Diabetes Progression = {intercept:.2f}\"\n",
    "for i in range(1, best_degree + 1):\n",
    "    equation += f\" + {coefs[i]:.2f} * BMI^{i}\"\n",
    "print(\"Equation of the best model:\", equation)"
   ]
  },
  {
   "cell_type": "markdown",
   "metadata": {},
   "source": [
    "##### Manually checking expedited diabetes progression value for BMI of 18"
   ]
  },
  {
   "cell_type": "code",
   "execution_count": 35,
   "metadata": {},
   "outputs": [
    {
     "name": "stdout",
     "output_type": "stream",
     "text": [
      "Expected diabetes progression for BMI 18: 61.81217858638183\n"
     ]
    }
   ],
   "source": [
    "bmi_value = 18\n",
    "x_poly_value = PolynomialFeatures(degree=best_degree).fit_transform(np.array([[bmi_value]]))\n",
    "expected_progression = best_model.predict(x_poly_value)[0]\n",
    "print(\"Expected diabetes progression for BMI 18:\", expected_progression)"
   ]
  },
  {
   "cell_type": "markdown",
   "metadata": {},
   "source": [
    "The expected progression for BMI 18: 61.81 \n",
    "Model predicted : 62.04"
   ]
  },
  {
   "cell_type": "markdown",
   "metadata": {},
   "source": [
    "### **Explanation for trainable parameters**"
   ]
  },
  {
   "cell_type": "code",
   "execution_count": 36,
   "metadata": {},
   "outputs": [
    {
     "name": "stdout",
     "output_type": "stream",
     "text": [
      "Degree 0: 1 trainable parameters\n",
      "Features: ['1']\n",
      "Degree 1: 2 trainable parameters\n",
      "Features: ['1' 'BMI']\n",
      "Degree 2: 3 trainable parameters\n",
      "Features: ['1' 'BMI' 'BMI^2']\n",
      "Degree 3: 4 trainable parameters\n",
      "Features: ['1' 'BMI' 'BMI^2' 'BMI^3']\n",
      "Degree 4: 5 trainable parameters\n",
      "Features: ['1' 'BMI' 'BMI^2' 'BMI^3' 'BMI^4']\n",
      "Degree 5: 6 trainable parameters\n",
      "Features: ['1' 'BMI' 'BMI^2' 'BMI^3' 'BMI^4' 'BMI^5']\n"
     ]
    }
   ],
   "source": [
    "for degree, model in zip(degrees, models):\n",
    "    poly_features = PolynomialFeatures(degree=degree)\n",
    "    X_poly_train = poly_features.fit_transform(X_train)\n",
    "    feature_names = poly_features.get_feature_names_out(input_features=['BMI'])\n",
    "    print(f\"Degree {degree}: {X_poly_train.shape[1]} trainable parameters\")\n",
    "    print(f\"Features: {feature_names}\")"
   ]
  }
 ],
 "metadata": {
  "kernelspec": {
   "display_name": "CSCN8010_classic_ml2",
   "language": "python",
   "name": "python3"
  },
  "language_info": {
   "codemirror_mode": {
    "name": "ipython",
    "version": 3
   },
   "file_extension": ".py",
   "mimetype": "text/x-python",
   "name": "python",
   "nbconvert_exporter": "python",
   "pygments_lexer": "ipython3",
   "version": "3.11.7"
  }
 },
 "nbformat": 4,
 "nbformat_minor": 2
}
