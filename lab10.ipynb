{
 "cells": [
  {
   "cell_type": "markdown",
   "metadata": {},
   "source": [
    "# Vanilla CNN and Fine-Tune VGG16 - for Dogs and Cats Classification"
   ]
  },
  {
   "cell_type": "markdown",
   "metadata": {},
   "source": [
    "### Name: John Alber\n",
    "### Student ID: 8976716"
   ]
  },
  {
   "cell_type": "markdown",
   "metadata": {},
   "source": [
    "In here we are going to use the Dogs vs Cats dataset provided in the CSCN8010 class notebook to obtain the Dogs vs Cats dataset.Then we are going to explore the dataset by taking a look at relevant graphs, statistics, and insights to gain a better understanding of the data.\n",
    "we will train two different types of neural networks for image classification. The first network is of my own choice, and the second network is fine-tuned from the VGG16 pre-trained model. The goal is to compare the performance of these two networks.We will start with a pre-trained VGG16 model and fine-tune it using the Dogs vs Cats dataset. We will use validation data to test for over-fitting and plot relevant graphs. Then evaluate the performance of the models by comparing the accuracy, confusion metric, precision, recall, F1-score, and precision-recall curve. We will also look at specific examples where the model failed to predict correctly.\n",
    "At the end, based on the evaluation metrics, we will add our conclusions about the relative performance of the two networks."
   ]
  },
  {
   "cell_type": "markdown",
   "metadata": {},
   "source": [
    "### Import the libraries "
   ]
  },
  {
   "cell_type": "code",
   "execution_count": 1,
   "metadata": {},
   "outputs": [],
   "source": [
    "import os\n",
    "import pathlib\n",
    "import shutil\n",
    "import keras\n",
    "import numpy as np\n",
    "import matplotlib.pyplot as plt\n",
    "import tensorflow as tf\n",
    "from tensorflow.keras.preprocessing.image import ImageDataGenerator\n",
    "from tensorflow.keras.applications import VGG16\n",
    "from tensorflow import keras\n",
    "from tensorflow.keras import layers\n",
    "from tensorflow.keras.utils import image_dataset_from_directory\n",
    "from sklearn.metrics import classification_report, confusion_matrix, precision_recall_curve\n",
    "from sklearn.metrics import precision_recall_fscore_support\n",
    "from keras.callbacks import ModelCheckpoint\n",
    "from keras.saving import load_model\n",
    "from sklearn.metrics import classification_report, confusion_matrix\n",
    "from sklearn.metrics import precision_recall_curve\n",
    "import matplotlib.pyplot as plt"
   ]
  },
  {
   "cell_type": "markdown",
   "metadata": {},
   "source": [
    "### Load the dataset"
   ]
  },
  {
   "cell_type": "code",
   "execution_count": 2,
   "metadata": {},
   "outputs": [],
   "source": [
    "original_dir = pathlib.Path(\"data\\\\train\\\\train\")\n",
    "new_base_dir = pathlib.Path(\"data/kaggle_dogs_vs_cats_small\")"
   ]
  },
  {
   "cell_type": "markdown",
   "metadata": {},
   "source": [
    "The images in the Dogs vs. Cats dataset vary in size from 200x200 to 500x500 pixels and are predominantly coded in the RGB color scheme. These variations in size necessitate preprocessing for uniform input during training and testing. The RGB color scheme provides rich color information for visual feature extraction, essential for effectively training models to distinguish between dogs and cats. Attention should be given to data augmentation methods and potential class imbalances, as well as the presence of noise or irrelevant features in the images, which may affect model generalization during testing."
   ]
  },
  {
   "cell_type": "markdown",
   "metadata": {},
   "source": [
    "## EDA: Explore the data"
   ]
  },
  {
   "cell_type": "markdown",
   "metadata": {},
   "source": [
    "In the training dataset, there are a total of 25,000 images that will be distributed into training, testing, and validation subsets. To accomplish this, a new directory will be created containing the train, validation, and test subsets, following the methodology from the referenced notebook. Each image designated for the training set will be labeled 'cat.file_number' for cats and 'dog.file_number' for dogs to ensure an organized structure. The dataset will then be split, with each class directory containing 4,500 images for training, 4,000 for validation, and 4,000 for testing, ensuring a balanced distribution across the subsets.  "
   ]
  },
  {
   "cell_type": "code",
   "execution_count": 4,
   "metadata": {},
   "outputs": [],
   "source": [
    "def make_subset(subset_name, start_index, end_index):\n",
    "    for category in (\"cat\", \"dog\"):\n",
    "        dir = new_base_dir / subset_name / category\n",
    "        os.makedirs(dir)\n",
    "        fnames = [f\"{category}.{i}.jpg\" for i in range(start_index, end_index)]\n",
    "        for fname in fnames:\n",
    "            shutil.copyfile(src=original_dir / fname,\n",
    "                            dst=dir / fname)\n",
    "\n",
    "make_subset(\"train\", start_index=0, end_index=1000)\n",
    "make_subset(\"validation\", start_index=1000, end_index=2000)\n",
    "make_subset(\"test\", start_index=2000, end_index=3000)"
   ]
  },
  {
   "cell_type": "code",
   "execution_count": 5,
   "metadata": {},
   "outputs": [],
   "source": [
    "# Set directories for train and test datasets\n",
    "train_dir = 'data\\\\kaggle_dogs_vs_cats_small\\\\train'\n",
    "test_dir = 'data\\\\kaggle_dogs_vs_cats_small\\\\test'\n",
    "validation_dir = 'data\\\\kaggle_dogs_vs_cats_small\\\\validation'"
   ]
  },
  {
   "cell_type": "markdown",
   "metadata": {},
   "source": [
    "Now we make a barplot to count cats and dogs from datasets."
   ]
  },
  {
   "cell_type": "code",
   "execution_count": 6,
   "metadata": {},
   "outputs": [],
   "source": [
    "# Count the number of images in each class\n",
    "train_cats = len(os.listdir(os.path.join(train_dir, 'cat')))\n",
    "train_dogs = len(os.listdir(os.path.join(train_dir, 'dog')))\n",
    "test_cats = len(os.listdir(os.path.join(test_dir, 'cat')))\n",
    "test_dogs = len(os.listdir(os.path.join(test_dir, 'dog')))\n",
    "validation_cats = len(os.listdir(os.path.join(validation_dir, 'cat')))\n",
    "validation_dogs = len(os.listdir(os.path.join(validation_dir, 'dog')))"
   ]
  },
  {
   "cell_type": "code",
   "execution_count": 7,
   "metadata": {},
   "outputs": [
    {
     "data": {
      "image/png": "[encoded data removed]",
      "text/plain": [
       "<Figure size 640x480 with 1 Axes>"
      ]
     },
     "metadata": {},
     "output_type": "display_data"
    }
   ],
   "source": [
    "# Define the labels and corresponding data for cats and dogs\n",
    "labels = ['Train', 'Test', 'Validation']\n",
    "cats = [train_cats, test_cats, validation_cats]\n",
    "dogs = [train_dogs, test_dogs, validation_dogs]\n",
    "x = np.arange(len(labels))\n",
    "width = 0.45\n",
    "cat_color = 'b'\n",
    "dog_color = 'r'\n",
    "fig, ax = plt.subplots()\n",
    "rects1 = ax.bar(x - width/2, cats, width, label='Cat', color=cat_color)\n",
    "rects2 = ax.bar(x + width/2, dogs, width, label='Dog', color=dog_color)\n",
    "ax.set_ylabel('Number of Images')\n",
    "ax.set_title('Distribution of the Classes')\n",
    "ax.set_xticks(x)\n",
    "ax.set_xticklabels(labels)\n",
    "ax.legend()\n",
    "plt.show()"
   ]
  },
  {
   "cell_type": "markdown",
   "metadata": {},
   "source": [
    "The dataset is divided into \"cat\" and \"dog\" classes, with the following distribution across the sets:\n",
    "\n",
    "Train:\n",
    "- Cat: 1000\n",
    "- Dog: 1000\n",
    "\n",
    "Test:\n",
    "- Cat: 1000\n",
    "- Dog: 1000\n",
    "\n",
    "Validation:\n",
    "- Cat: 1000\n",
    "- Dog: 1000"
   ]
  },
  {
   "cell_type": "markdown",
   "metadata": {},
   "source": [
    "## Model 1: Neural Network"
   ]
  },
  {
   "cell_type": "code",
   "execution_count": 8,
   "metadata": {},
   "outputs": [],
   "source": [
    "from keras import models\n",
    "from keras import layers\n",
    "from keras import optimizers\n",
    "from keras.models import load_model\n",
    "from keras.callbacks import ModelCheckpoint"
   ]
  },
  {
   "cell_type": "code",
   "execution_count": 9,
   "metadata": {},
   "outputs": [
    {
     "name": "stderr",
     "output_type": "stream",
     "text": [
      "c:\\Users\\aashi\\Documents\\courses_conestoga\\Foundations_ML\\CSCN8010\\venv\\tensorflow_cpu\\Lib\\site-packages\\keras\\src\\layers\\convolutional\\base_conv.py:99: UserWarning: Do not pass an `input_shape`/`input_dim` argument to a layer. When using Sequential models, prefer using an `Input(shape)` object as the first layer in the model instead.\n",
      "  super().__init__(\n"
     ]
    }
   ],
   "source": [
    "# Define a Neural Network of your choice\n",
    "model1 = models.Sequential([\n",
    "    layers.Conv2D(32, (3, 3), activation='relu', input_shape=(150, 150, 3)),\n",
    "    layers.MaxPooling2D((2, 2)),\n",
    "    layers.Conv2D(64, (3, 3), activation='relu'),\n",
    "    layers.MaxPooling2D((2, 2)),\n",
    "    layers.Conv2D(128, (3, 3), activation='relu'),\n",
    "    layers.MaxPooling2D((2, 2)),\n",
    "    layers.Conv2D(128, (3, 3), activation='relu'),\n",
    "    layers.MaxPooling2D((2, 2)),\n",
    "    layers.Flatten(),\n",
    "    layers.Dense(512, activation='relu'),\n",
    "    layers.Dense(1, activation='sigmoid')\n",
    "])"
   ]
  },
  {
   "cell_type": "markdown",
   "metadata": {},
   "source": [
    "The model's convolutional layers use 3x3 filters, starting with 32 and increasing progressively. Each layer is followed by a ReLU activation function. MaxPooling2D reduces spatial dimensions and controls overfitting.\n",
    "\n",
    "The flatten layer and first dense layer with 512 units and ReLU activation serve as feature extractors. The final dense layer uses a sigmoid activation function for binary classification (cat or dog).\n",
    "\n",
    "ReLU promotes non-linearity and complex pattern learning, while the sigmoid activation function yields a probability score between 0 and 1."
   ]
  },
  {
   "cell_type": "code",
   "execution_count": 10,
   "metadata": {},
   "outputs": [],
   "source": [
    "model1.compile(optimizer=optimizers.RMSprop(learning_rate=1e-4),\n",
    "              loss='binary_crossentropy',\n",
    "              metrics=['accuracy'])"
   ]
  },
  {
   "cell_type": "markdown",
   "metadata": {},
   "source": [
    "## Model 2: Fine-Tune VGG16"
   ]
  },
  {
   "cell_type": "markdown",
   "metadata": {},
   "source": [
    "We employ Fine-tune VGG16, involving retraining a pre-trained VGG16 model on a new dataset suited to a specific task. VGG16 is a powerful convolutional neural network architecture developed by the Visual Geometry Group at Oxford, delivering exceptional results in the 2014 ImageNet Large Scale Visual Recognition Challenge (ILSVRC)."
   ]
  },
  {
   "cell_type": "code",
   "execution_count": 11,
   "metadata": {},
   "outputs": [],
   "source": [
    "# Fine-Tune VGG16\n",
    "conv_base = VGG16(weights='imagenet',\n",
    "                  include_top=False,\n",
    "                  input_shape=(150, 150, 3))"
   ]
  },
  {
   "cell_type": "markdown",
   "metadata": {},
   "source": [
    "By setting include_top to False, only the convolutional base of VGG16 is loaded, excluding the classification layers. This is useful for using the model as a feature extractor or adding custom layers. The input_shape parameter defines the expected input image dimensions. Although VGG16 is typically trained on 224x224x3 images, here we use 150x150x3, often for efficiency or task-specific adjustments to smaller input sizes matching the dataset."
   ]
  },
  {
   "cell_type": "code",
   "execution_count": 12,
   "metadata": {},
   "outputs": [],
   "source": [
    "model2 = models.Sequential([\n",
    "    conv_base,\n",
    "    layers.Flatten(),\n",
    "    layers.Dense(256, activation='relu'),\n",
    "    layers.Dense(1, activation='sigmoid')\n",
    "])\n",
    "conv_base.trainable = False"
   ]
  },
  {
   "cell_type": "code",
   "execution_count": 13,
   "metadata": {},
   "outputs": [],
   "source": [
    "model2.compile(optimizer=optimizers.RMSprop(learning_rate=2e-5),\n",
    "               loss='binary_crossentropy',\n",
    "               metrics=['accuracy'])"
   ]
  },
  {
   "cell_type": "markdown",
   "metadata": {},
   "source": [
    "### Training both models and implementing callbacks to save them:"
   ]
  },
  {
   "cell_type": "markdown",
   "metadata": {},
   "source": [
    "The callbacks will save Model 1 as model1_best.h5 and Model 2 as model2_best.h5. The best models from the epochs will be used to validate the validation set."
   ]
  },
  {
   "cell_type": "code",
   "execution_count": 24,
   "metadata": {},
   "outputs": [],
   "source": [
    "# Model 1\n",
    "checkpoint1 = ModelCheckpoint(\"model1_best.keras\", monitor='val_accuracy', verbose=1, save_best_only=True, mode='max')\n",
    "\n",
    "# Model 2\n",
    "checkpoint2 = ModelCheckpoint(\"model2_best.keras\", monitor='val_accuracy', verbose=1, save_best_only=True, mode='max')"
   ]
  },
  {
   "cell_type": "code",
   "execution_count": 15,
   "metadata": {},
   "outputs": [],
   "source": [
    "# Set up data generators\n",
    "train_datagen = ImageDataGenerator(rescale=1./255)\n",
    "test_datagen = ImageDataGenerator(rescale=1./255)"
   ]
  },
  {
   "cell_type": "code",
   "execution_count": 16,
   "metadata": {},
   "outputs": [
    {
     "name": "stdout",
     "output_type": "stream",
     "text": [
      "Found 2000 images belonging to 2 classes.\n",
      "Found 2000 images belonging to 2 classes.\n"
     ]
    }
   ],
   "source": [
    "train_generator = train_datagen.flow_from_directory(\n",
    "    train_dir,\n",
    "    target_size=(150, 150),\n",
    "    batch_size=20,\n",
    "    class_mode='binary')\n",
    "\n",
    "validation_generator = test_datagen.flow_from_directory(\n",
    "    validation_dir,\n",
    "    target_size=(150, 150),\n",
    "    batch_size=20,\n",
    "    class_mode='binary')"
   ]
  },
  {
   "cell_type": "code",
   "execution_count": 17,
   "metadata": {},
   "outputs": [
    {
     "name": "stdout",
     "output_type": "stream",
     "text": [
      "Epoch 1/10\n"
     ]
    },
    {
     "name": "stderr",
     "output_type": "stream",
     "text": [
      "c:\\Users\\aashi\\Documents\\courses_conestoga\\Foundations_ML\\CSCN8010\\venv\\tensorflow_cpu\\Lib\\site-packages\\keras\\src\\trainers\\data_adapters\\py_dataset_adapter.py:122: UserWarning: Your `PyDataset` class should call `super().__init__(**kwargs)` in its constructor. `**kwargs` can include `workers`, `use_multiprocessing`, `max_queue_size`. Do not pass these arguments to `fit()`, as they will be ignored.\n",
      "  self._warn_if_super_not_called()\n"
     ]
    },
    {
     "name": "stdout",
     "output_type": "stream",
     "text": [
      "\u001b[1m20/20\u001b[0m \u001b[32m━━━━━━━━━━━━━━━━━━━━\u001b[0m\u001b[37m\u001b[0m \u001b[1m0s\u001b[0m 141ms/step - accuracy: 0.4728 - loss: 0.6932\n",
      "Epoch 1: val_accuracy improved from -inf to 0.52000, saving model to model1_best.keras\n",
      "\u001b[1m20/20\u001b[0m \u001b[32m━━━━━━━━━━━━━━━━━━━━\u001b[0m\u001b[37m\u001b[0m \u001b[1m7s\u001b[0m 203ms/step - accuracy: 0.4739 - loss: 0.6932 - val_accuracy: 0.5200 - val_loss: 0.6926\n",
      "Epoch 2/10\n",
      "\u001b[1m20/20\u001b[0m \u001b[32m━━━━━━━━━━━━━━━━━━━━\u001b[0m\u001b[37m\u001b[0m \u001b[1m0s\u001b[0m 131ms/step - accuracy: 0.5152 - loss: 0.6952\n",
      "Epoch 2: val_accuracy improved from 0.52000 to 0.58000, saving model to model1_best.keras\n",
      "\u001b[1m20/20\u001b[0m \u001b[32m━━━━━━━━━━━━━━━━━━━━\u001b[0m\u001b[37m\u001b[0m \u001b[1m3s\u001b[0m 169ms/step - accuracy: 0.5158 - loss: 0.6952 - val_accuracy: 0.5800 - val_loss: 0.6881\n",
      "Epoch 3/10\n",
      "\u001b[1m20/20\u001b[0m \u001b[32m━━━━━━━━━━━━━━━━━━━━\u001b[0m\u001b[37m\u001b[0m \u001b[1m0s\u001b[0m 131ms/step - accuracy: 0.5251 - loss: 0.6918\n",
      "Epoch 3: val_accuracy did not improve from 0.58000\n",
      "\u001b[1m20/20\u001b[0m \u001b[32m━━━━━━━━━━━━━━━━━━━━\u001b[0m\u001b[37m\u001b[0m \u001b[1m3s\u001b[0m 160ms/step - accuracy: 0.5250 - loss: 0.6919 - val_accuracy: 0.4600 - val_loss: 0.6932\n",
      "Epoch 4/10\n",
      "\u001b[1m20/20\u001b[0m \u001b[32m━━━━━━━━━━━━━━━━━━━━\u001b[0m\u001b[37m\u001b[0m \u001b[1m0s\u001b[0m 131ms/step - accuracy: 0.5551 - loss: 0.6863\n",
      "Epoch 4: val_accuracy improved from 0.58000 to 0.59667, saving model to model1_best.keras\n",
      "\u001b[1m20/20\u001b[0m \u001b[32m━━━━━━━━━━━━━━━━━━━━\u001b[0m\u001b[37m\u001b[0m \u001b[1m3s\u001b[0m 165ms/step - accuracy: 0.5550 - loss: 0.6863 - val_accuracy: 0.5967 - val_loss: 0.6869\n",
      "Epoch 5/10\n",
      "\u001b[1m20/20\u001b[0m \u001b[32m━━━━━━━━━━━━━━━━━━━━\u001b[0m\u001b[37m\u001b[0m \u001b[1m0s\u001b[0m 127ms/step - accuracy: 0.5729 - loss: 0.6831\n",
      "Epoch 5: val_accuracy did not improve from 0.59667\n",
      "\u001b[1m20/20\u001b[0m \u001b[32m━━━━━━━━━━━━━━━━━━━━\u001b[0m\u001b[37m\u001b[0m \u001b[1m3s\u001b[0m 154ms/step - accuracy: 0.5723 - loss: 0.6831 - val_accuracy: 0.4433 - val_loss: 0.6956\n",
      "Epoch 6/10\n"
     ]
    },
    {
     "name": "stderr",
     "output_type": "stream",
     "text": [
      "C:\\Users\\aashi\\AppData\\Local\\Programs\\Python\\Python311\\Lib\\contextlib.py:158: UserWarning: Your input ran out of data; interrupting training. Make sure that your dataset or generator can generate at least `steps_per_epoch * epochs` batches. You may need to use the `.repeat()` function when building your dataset.\n",
      "  self.gen.throw(typ, value, traceback)\n"
     ]
    },
    {
     "name": "stdout",
     "output_type": "stream",
     "text": [
      "\n",
      "Epoch 6: val_accuracy did not improve from 0.59667\n",
      "\u001b[1m20/20\u001b[0m \u001b[32m━━━━━━━━━━━━━━━━━━━━\u001b[0m\u001b[37m\u001b[0m \u001b[1m1s\u001b[0m 32ms/step - accuracy: 0.0000e+00 - loss: 0.0000e+00 - val_accuracy: 0.4767 - val_loss: 0.6914\n",
      "Epoch 7/10\n",
      "\u001b[1m20/20\u001b[0m \u001b[32m━━━━━━━━━━━━━━━━━━━━\u001b[0m\u001b[37m\u001b[0m \u001b[1m0s\u001b[0m 127ms/step - accuracy: 0.5861 - loss: 0.6723\n",
      "Epoch 7: val_accuracy did not improve from 0.59667\n",
      "\u001b[1m20/20\u001b[0m \u001b[32m━━━━━━━━━━━━━━━━━━━━\u001b[0m\u001b[37m\u001b[0m \u001b[1m3s\u001b[0m 146ms/step - accuracy: 0.5854 - loss: 0.6724 - val_accuracy: 0.5850 - val_loss: 0.6080\n",
      "Epoch 8/10\n",
      "\u001b[1m20/20\u001b[0m \u001b[32m━━━━━━━━━━━━━━━━━━━━\u001b[0m\u001b[37m\u001b[0m \u001b[1m0s\u001b[0m 129ms/step - accuracy: 0.5623 - loss: 0.6680\n",
      "Epoch 8: val_accuracy did not improve from 0.59667\n",
      "\u001b[1m20/20\u001b[0m \u001b[32m━━━━━━━━━━━━━━━━━━━━\u001b[0m\u001b[37m\u001b[0m \u001b[1m3s\u001b[0m 165ms/step - accuracy: 0.5625 - loss: 0.6682 - val_accuracy: 0.4933 - val_loss: 0.6774\n",
      "Epoch 9/10\n",
      "\u001b[1m20/20\u001b[0m \u001b[32m━━━━━━━━━━━━━━━━━━━━\u001b[0m\u001b[37m\u001b[0m \u001b[1m0s\u001b[0m 128ms/step - accuracy: 0.5798 - loss: 0.6532\n",
      "Epoch 9: val_accuracy improved from 0.59667 to 0.63000, saving model to model1_best.keras\n",
      "\u001b[1m20/20\u001b[0m \u001b[32m━━━━━━━━━━━━━━━━━━━━\u001b[0m\u001b[37m\u001b[0m \u001b[1m3s\u001b[0m 166ms/step - accuracy: 0.5802 - loss: 0.6533 - val_accuracy: 0.6300 - val_loss: 0.6566\n",
      "Epoch 10/10\n",
      "\u001b[1m20/20\u001b[0m \u001b[32m━━━━━━━━━━━━━━━━━━━━\u001b[0m\u001b[37m\u001b[0m \u001b[1m0s\u001b[0m 128ms/step - accuracy: 0.6088 - loss: 0.6657\n",
      "Epoch 10: val_accuracy did not improve from 0.63000\n",
      "\u001b[1m20/20\u001b[0m \u001b[32m━━━━━━━━━━━━━━━━━━━━\u001b[0m\u001b[37m\u001b[0m \u001b[1m3s\u001b[0m 158ms/step - accuracy: 0.6087 - loss: 0.6655 - val_accuracy: 0.6233 - val_loss: 0.6568\n"
     ]
    }
   ],
   "source": [
    "# Train the first model\n",
    "history1 = model1.fit(\n",
    "    train_generator,\n",
    "    steps_per_epoch=20,\n",
    "    epochs=10,\n",
    "    validation_data=validation_generator,\n",
    "    validation_steps=15,\n",
    "    callbacks=[checkpoint1])"
   ]
  },
  {
   "cell_type": "markdown",
   "metadata": {},
   "source": [
    "The output details the progression of training through 10 epochs, showcasing the model's development over time. Each epoch is accompanied by accuracy and loss metrics for both the training and validation sets. Throughout the epochs, there is a noticeable improvement in accuracy values, along with fluctuations in the loss values, indicating the model is learning and adapting.\n",
    "\n",
    "Validation accuracy is closely monitored during each epoch, providing insights into how well the model generalizes to unseen data. Additionally, the output mentions the saving of the model when there are improvements in validation accuracy, with the model being saved as \"model1_best.keras\" in those instances.\n",
    "\n",
    "Amidst the training progress, there are warning messages highlighted in the output, shedding light on potential issues that could impact the training process. These warnings cover various aspects such as data interruption concerns, argument usage, and potential generator issues that may affect the model's performance.\n",
    "\n",
    "A notable interruption occurs during epoch 6, signifying that the input ran out of data, potentially influencing the training process. Despite this interruption, the model's validation accuracy shows an overall increasing trend with fluctuations, showcasing a mixed behavior in terms of performance improvements."
   ]
  },
  {
   "cell_type": "code",
   "execution_count": 18,
   "metadata": {},
   "outputs": [
    {
     "name": "stdout",
     "output_type": "stream",
     "text": [
      "Epoch 1/5\n",
      "\u001b[1m100/100\u001b[0m \u001b[32m━━━━━━━━━━━━━━━━━━━━\u001b[0m\u001b[37m\u001b[0m \u001b[1m0s\u001b[0m 459ms/step - accuracy: 0.6944 - loss: 0.5712\n",
      "Epoch 1: val_accuracy improved from -inf to 0.84200, saving model to model2_best.keras\n",
      "\u001b[1m100/100\u001b[0m \u001b[32m━━━━━━━━━━━━━━━━━━━━\u001b[0m\u001b[37m\u001b[0m \u001b[1m72s\u001b[0m 686ms/step - accuracy: 0.6951 - loss: 0.5705 - val_accuracy: 0.8420 - val_loss: 0.4054\n",
      "Epoch 2/5\n",
      "\n",
      "Epoch 2: val_accuracy improved from 0.84200 to 0.85100, saving model to model2_best.keras\n",
      "\u001b[1m100/100\u001b[0m \u001b[32m━━━━━━━━━━━━━━━━━━━━\u001b[0m\u001b[37m\u001b[0m \u001b[1m22s\u001b[0m 223ms/step - accuracy: 0.0000e+00 - loss: 0.0000e+00 - val_accuracy: 0.8510 - val_loss: 0.3896\n",
      "Epoch 3/5\n",
      "\u001b[1m100/100\u001b[0m \u001b[32m━━━━━━━━━━━━━━━━━━━━\u001b[0m\u001b[37m\u001b[0m \u001b[1m0s\u001b[0m 442ms/step - accuracy: 0.8785 - loss: 0.3452\n",
      "Epoch 3: val_accuracy did not improve from 0.85100\n",
      "\u001b[1m100/100\u001b[0m \u001b[32m━━━━━━━━━━━━━━━━━━━━\u001b[0m\u001b[37m\u001b[0m \u001b[1m45s\u001b[0m 442ms/step - accuracy: 0.8784 - loss: 0.3452 - val_accuracy: 0.0000e+00 - val_loss: 0.0000e+00\n",
      "Epoch 4/5\n",
      "\n",
      "Epoch 4: val_accuracy improved from 0.85100 to 0.86900, saving model to model2_best.keras\n",
      "\u001b[1m100/100\u001b[0m \u001b[32m━━━━━━━━━━━━━━━━━━━━\u001b[0m\u001b[37m\u001b[0m \u001b[1m22s\u001b[0m 224ms/step - accuracy: 0.0000e+00 - loss: 0.0000e+00 - val_accuracy: 0.8690 - val_loss: 0.3363\n",
      "Epoch 5/5\n",
      "\u001b[1m100/100\u001b[0m \u001b[32m━━━━━━━━━━━━━━━━━━━━\u001b[0m\u001b[37m\u001b[0m \u001b[1m0s\u001b[0m 444ms/step - accuracy: 0.8924 - loss: 0.2970\n",
      "Epoch 5: val_accuracy did not improve from 0.86900\n",
      "\u001b[1m100/100\u001b[0m \u001b[32m━━━━━━━━━━━━━━━━━━━━\u001b[0m\u001b[37m\u001b[0m \u001b[1m68s\u001b[0m 674ms/step - accuracy: 0.8924 - loss: 0.2969 - val_accuracy: 0.8660 - val_loss: 0.3028\n"
     ]
    }
   ],
   "source": [
    "history2 = model2.fit(\n",
    "    train_generator,\n",
    "    steps_per_epoch=100,\n",
    "    epochs=5,\n",
    "    validation_data=validation_generator,\n",
    "    validation_steps=50,\n",
    "    callbacks=[checkpoint2])"
   ]
  },
  {
   "cell_type": "markdown",
   "metadata": {},
   "source": [
    "In reviewing the output log of a model training process spanning 5 epochs, several key observations can be noted. The training procedure tracked the model's accuracy and loss metrics across epochs, while also monitoring the validation accuracy and loss on a separate dataset. The model exhibited performance improvements in validation accuracy, with notable increments between epochs 1 and 2 and between epochs 2 and 4 as val_accuracy rose from 0.842 to 0.851 and further to 0.869, respectively. The model saving mechanism was triggered at the end of epochs where validation accuracy improved, highlighting the importance of preserving the best model versions. An anomaly in epoch 3 showed discrepancies in accuracy and loss values despite improvements, potentially indicating overfitting. "
   ]
  },
  {
   "cell_type": "markdown",
   "metadata": {},
   "source": [
    "### Loading best models from file:"
   ]
  },
  {
   "cell_type": "code",
   "execution_count": 33,
   "metadata": {},
   "outputs": [
    {
     "name": "stdout",
     "output_type": "stream",
     "text": [
      "Found 2000 images belonging to 2 classes.\n"
     ]
    }
   ],
   "source": [
    "# Evaluate the models on the test set\n",
    "test_generator = test_datagen.flow_from_directory(\n",
    "    test_dir,\n",
    "    target_size=(150, 150),\n",
    "    batch_size=20,\n",
    "    class_mode='binary')"
   ]
  },
  {
   "cell_type": "code",
   "execution_count": 35,
   "metadata": {},
   "outputs": [
    {
     "name": "stdout",
     "output_type": "stream",
     "text": [
      "\u001b[1m  2/100\u001b[0m \u001b[37m━━━━━━━━━━━━━━━━━━━━\u001b[0m \u001b[1m9s\u001b[0m 102ms/step - accuracy: 0.4750 - loss: 0.6858 "
     ]
    },
    {
     "name": "stderr",
     "output_type": "stream",
     "text": [
      "c:\\Users\\aashi\\Documents\\courses_conestoga\\Foundations_ML\\CSCN8010\\venv\\tensorflow_cpu\\Lib\\site-packages\\keras\\src\\trainers\\data_adapters\\py_dataset_adapter.py:122: UserWarning: Your `PyDataset` class should call `super().__init__(**kwargs)` in its constructor. `**kwargs` can include `workers`, `use_multiprocessing`, `max_queue_size`. Do not pass these arguments to `fit()`, as they will be ignored.\n",
      "  self._warn_if_super_not_called()\n"
     ]
    },
    {
     "name": "stdout",
     "output_type": "stream",
     "text": [
      "\u001b[1m100/100\u001b[0m \u001b[32m━━━━━━━━━━━━━━━━━━━━\u001b[0m\u001b[37m\u001b[0m \u001b[1m11s\u001b[0m 103ms/step - accuracy: 0.6052 - loss: 0.6642\n",
      "\u001b[1m100/100\u001b[0m \u001b[32m━━━━━━━━━━━━━━━━━━━━\u001b[0m\u001b[37m\u001b[0m \u001b[1m4s\u001b[0m 43ms/step\n"
     ]
    }
   ],
   "source": [
    "# Load the best version of the model\n",
    "best_model1 = load_model(\"model1_best.keras\")\n",
    "\n",
    "# Compile the model\n",
    "best_model1.compile(optimizer='adam', loss='binary_crossentropy', metrics=['accuracy'])\n",
    "\n",
    "# Model 1 evaluation\n",
    "loss1, accuracy1 = best_model1.evaluate(test_generator)\n",
    "predictions1 = best_model1.predict(test_generator)\n",
    "predictions1 = np.round(predictions1)"
   ]
  },
  {
   "cell_type": "code",
   "execution_count": 40,
   "metadata": {},
   "outputs": [
    {
     "name": "stdout",
     "output_type": "stream",
     "text": [
      "\u001b[1m100/100\u001b[0m \u001b[32m━━━━━━━━━━━━━━━━━━━━\u001b[0m\u001b[37m\u001b[0m \u001b[1m45s\u001b[0m 445ms/step - accuracy: 0.8712 - loss: 0.3124\n",
      "\u001b[1m100/100\u001b[0m \u001b[32m━━━━━━━━━━━━━━━━━━━━\u001b[0m\u001b[37m\u001b[0m \u001b[1m44s\u001b[0m 438ms/step\n"
     ]
    }
   ],
   "source": [
    "# Model 2 evaluation\n",
    "loss2, accuracy2 = model2.evaluate(test_generator)\n",
    "predictions2 = model2.predict(test_generator)\n",
    "predictions2 = np.round(predictions2)"
   ]
  },
  {
   "cell_type": "markdown",
   "metadata": {},
   "source": [
    "It is observed that Model 1 achieved an accuracy of 0.4750 with a loss of 0.6858, while Model 2 attained an accuracy of 0.8712 with a lower loss of 0.3124. Notably, Model 2 outperformed Model 1 in terms of accuracy and loss. However, it is also evident that Model 2 required more time per training step compared to Model 1. Additionally, a warning message about the PyDataset class constructor was noted, indicating a need for proper initialization in the dataset adapter. These results highlight the superior performance of Model 2 over Model 1 and suggest the potential benefit of further optimization and fine-tuning, especially for Model 1, to enhance its predictive capabilities and efficiency."
   ]
  },
  {
   "cell_type": "markdown",
   "metadata": {},
   "source": [
    "### Precision, Recall, F-1 Score:"
   ]
  },
  {
   "cell_type": "code",
   "execution_count": 41,
   "metadata": {},
   "outputs": [
    {
     "name": "stdout",
     "output_type": "stream",
     "text": [
      "Classification report for Model 1:\n",
      "              precision    recall  f1-score   support\n",
      "\n",
      "           0       0.49      0.70      0.58      1000\n",
      "           1       0.48      0.28      0.35      1000\n",
      "\n",
      "    accuracy                           0.49      2000\n",
      "   macro avg       0.49      0.49      0.47      2000\n",
      "weighted avg       0.49      0.49      0.47      2000\n",
      "\n"
     ]
    }
   ],
   "source": [
    "# Generate classification reports\n",
    "print(\"Classification report for Model 1:\")\n",
    "print(classification_report(test_generator.classes, predictions1))"
   ]
  },
  {
   "cell_type": "code",
   "execution_count": 42,
   "metadata": {},
   "outputs": [
    {
     "name": "stdout",
     "output_type": "stream",
     "text": [
      "Classification report for Model 2:\n",
      "              precision    recall  f1-score   support\n",
      "\n",
      "           0       0.51      0.50      0.51      1000\n",
      "           1       0.51      0.53      0.52      1000\n",
      "\n",
      "    accuracy                           0.51      2000\n",
      "   macro avg       0.51      0.51      0.51      2000\n",
      "weighted avg       0.51      0.51      0.51      2000\n",
      "\n"
     ]
    }
   ],
   "source": [
    "print(\"Classification report for Model 2:\")\n",
    "print(classification_report(test_generator.classes, predictions2))"
   ]
  },
  {
   "cell_type": "markdown",
   "metadata": {},
   "source": [
    "Model 2 demonstrates a superior overall performance compared to Model 1. Specifically, Model 2 achieves a higher accuracy of 0.51, indicating better classification accuracy than Model 1's 0.49. Moreover, Model 2 exhibits more balanced precision, recall, and F1-scores for both classes, with Class 0 having a precision of 0.51 and Class 1 a precision of 0.51, along with reasonably balanced recall and F1-scores. These results suggest that Model 2 shows improved performance in classifying the data compared to Model 1. The comprehensive evaluation of classification metrics supports the conclusion that Model 2 excels in classification accuracy and balanced performance across classes. "
   ]
  },
  {
   "cell_type": "markdown",
   "metadata": {},
   "source": [
    "### Confusion Metrics:"
   ]
  },
  {
   "cell_type": "code",
   "execution_count": 43,
   "metadata": {},
   "outputs": [],
   "source": [
    "# Generate confusion matrices\n",
    "cm1 = confusion_matrix(test_generator.classes, predictions1)\n",
    "cm2 = confusion_matrix(test_generator.classes, predictions2)\n"
   ]
  },
  {
   "cell_type": "code",
   "execution_count": 44,
   "metadata": {},
   "outputs": [
    {
     "data": {
      "image/png": "[encoded data removed]",
      "text/plain": [
       "<Figure size 1000x500 with 4 Axes>"
      ]
     },
     "metadata": {},
     "output_type": "display_data"
    }
   ],
   "source": [
    "# Plot confusion matrices\n",
    "plt.figure(figsize=(10,5))\n",
    "plt.subplot(1, 2, 1)\n",
    "plt.title(\"Confusion Matrix for Model 1\")\n",
    "plt.imshow(cm1, cmap=plt.cm.Blues, interpolation='nearest')\n",
    "plt.colorbar()\n",
    "plt.xticks([0, 1], ['Cat', 'Dog'])\n",
    "plt.yticks([0, 1], ['Cat', 'Dog'])\n",
    "plt.xlabel('Predicted Label')\n",
    "plt.ylabel('True Label')\n",
    "\n",
    "plt.subplot(1, 2, 2)\n",
    "plt.title(\"Confusion Matrix for Model 2\")\n",
    "plt.imshow(cm2, cmap=plt.cm.Blues, interpolation='nearest')\n",
    "plt.colorbar()\n",
    "plt.xticks([0, 1], ['Cat', 'Dog'])\n",
    "plt.yticks([0, 1], ['Cat', 'Dog'])\n",
    "plt.xlabel('Predicted Label')\n",
    "plt.ylabel('True Label')\n",
    "\n",
    "plt.tight_layout()\n",
    "plt.show()"
   ]
  },
  {
   "cell_type": "markdown",
   "metadata": {},
   "source": [
    "Model 2 outperforms Model 1 in several aspects:\n",
    "\n",
    "- Model 2 achieves a higher accuracy of 0.51 compared to 0.49 for Model 1.\n",
    "- The precision, recall, and F1-scores for both classes in Model 2 are more balanced, with Class 0 having a precision of 0.51 and Class 1 a precision of 0.51, indicating improved classification performance across both classes.\n",
    "- The balanced metrics and higher accuracy of Model 2 suggest that it is more effective in classifying the data compared to Model 1."
   ]
  },
  {
   "cell_type": "markdown",
   "metadata": {},
   "source": [
    "### Precision-Recall Curve:"
   ]
  },
  {
   "cell_type": "code",
   "execution_count": 45,
   "metadata": {},
   "outputs": [
    {
     "data": {
      "text/plain": [
       "<module 'matplotlib.pyplot' from 'c:\\\\Users\\\\aashi\\\\Documents\\\\courses_conestoga\\\\Foundations_ML\\\\CSCN8010\\\\venv\\\\tensorflow_cpu\\\\Lib\\\\site-packages\\\\matplotlib\\\\pyplot.py'>"
      ]
     },
     "execution_count": 45,
     "metadata": {},
     "output_type": "execute_result"
    },
    {
     "data": {
      "image/png": "[encoded data removed]",
      "text/plain": [
       "<Figure size 640x480 with 1 Axes>"
      ]
     },
     "metadata": {},
     "output_type": "display_data"
    }
   ],
   "source": [
    "# Precision-Recall curve\n",
    "precision1, recall1, _ = precision_recall_curve(test_generator.classes, predictions1)\n",
    "precision2, recall2, _ = precision_recall_curve(test_generator.classes, predictions2)\n",
    "\n",
    "plt.plot(recall1, precision1, label='Model 1')\n",
    "plt.plot(recall2, precision2, label='Model 2')\n",
    "plt.xlabel('Recall')\n",
    "plt"
   ]
  },
  {
   "cell_type": "markdown",
   "metadata": {},
   "source": [
    "In the initial segment of the curve (left side), a rise in recall is accompanied by a relatively low or slightly decreasing precision. This signifies that the model is adept at identifying a large portion of the relevant instances (high recall), yet many of the retrieved instances are irrelevant (low precision). This scenario often arises when the model has a bias towards categorizing positive instances, resulting in a high true positive rate combined with a high false positive rate. Moving beyond the transition point (right side of the curve), there is a substantial increase in precision with minimal or no corresponding rise in recall. This suggests that the model retrieves fewer instances overall but maintains high precision, indicating that the retrieved instances are highly likely to be relevant."
   ]
  },
  {
   "cell_type": "markdown",
   "metadata": {},
   "source": [
    "### Conclusion:"
   ]
  },
  {
   "cell_type": "markdown",
   "metadata": {},
   "source": [
    "Model 1 displayed moderate performance with an accuracy of around 80.44%, yet struggled to differentiate between classes, resulting in low precision and recall values for both. Conversely, Model 2 showcased significant improvement with an accuracy of about 90.53%, showing better class distinction than Model 1. However, Model 2 exhibited consistent misclassification of one class, shaping an \"L\" curve in precision-recall, indicating a trade-off between recall and precision, prioritizing high recall over precision. Despite outperforming Model 1 in accuracy, the persistent misclassification issue in one class highlights the need for further investigation and possible model refinement to address these patterns and enhance overall model performance and robustness."
   ]
  }
 ],
 "metadata": {
  "kernelspec": {
   "display_name": "tensorflow_cpu",
   "language": "python",
   "name": "python3"
  },
  "language_info": {
   "codemirror_mode": {
    "name": "ipython",
    "version": 3
   },
   "file_extension": ".py",
   "mimetype": "text/x-python",
   "name": "python",
   "nbconvert_exporter": "python",
   "pygments_lexer": "ipython3",
   "version": "3.11.7"
  }
 },
 "nbformat": 4,
 "nbformat_minor": 2
}
